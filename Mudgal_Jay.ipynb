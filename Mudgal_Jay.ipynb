{
 "cells": [
  {
   "cell_type": "markdown",
   "id": "99465999",
   "metadata": {},
   "source": [
    "#  - K-Nearest Neighbor\n",
    "Data file: social_network_ads.csv"
   ]
  },
  {
   "cell_type": "markdown",
   "id": "db03907d",
   "metadata": {},
   "source": [
    "### Import libraries"
   ]
  },
  {
   "cell_type": "code",
   "execution_count": 38,
   "id": "ac51d56f",
   "metadata": {},
   "outputs": [],
   "source": [
    "import pandas as pd\n",
    "import matplotlib.pyplot as plt\n",
    "%matplotlib inline\n",
    "import seaborn as sns\n",
    "from sklearn.model_selection import train_test_split\n",
    "from sklearn.preprocessing import StandardScaler\n",
    "from sklearn.neighbors import KNeighborsClassifier\n",
    "from sklearn.metrics import classification_report\n",
    "import numpy as np"
   ]
  },
  {
   "cell_type": "code",
   "execution_count": 39,
   "id": "4f211030",
   "metadata": {},
   "outputs": [],
   "source": [
    "import warnings\n",
    "warnings.filterwarnings(\"ignore\")"
   ]
  },
  {
   "cell_type": "markdown",
   "id": "4c7ea0c6",
   "metadata": {},
   "source": [
    "### Load data"
   ]
  },
  {
   "cell_type": "code",
   "execution_count": 40,
   "id": "72df8fa1",
   "metadata": {},
   "outputs": [],
   "source": [
    "# Read CSV into dataframe\n",
    "df= pd.read_csv(r\"social_network_ads(1).csv\")"
   ]
  },
  {
   "cell_type": "code",
   "execution_count": 41,
   "id": "6fcae04f",
   "metadata": {
    "scrolled": true
   },
   "outputs": [
    {
     "data": {
      "text/html": [
       "<div>\n",
       "<style scoped>\n",
       "    .dataframe tbody tr th:only-of-type {\n",
       "        vertical-align: middle;\n",
       "    }\n",
       "\n",
       "    .dataframe tbody tr th {\n",
       "        vertical-align: top;\n",
       "    }\n",
       "\n",
       "    .dataframe thead th {\n",
       "        text-align: right;\n",
       "    }\n",
       "</style>\n",
       "<table border=\"1\" class=\"dataframe\">\n",
       "  <thead>\n",
       "    <tr style=\"text-align: right;\">\n",
       "      <th></th>\n",
       "      <th>User ID</th>\n",
       "      <th>Gender</th>\n",
       "      <th>Age</th>\n",
       "      <th>EstimatedSalary</th>\n",
       "      <th>Purchased</th>\n",
       "    </tr>\n",
       "  </thead>\n",
       "  <tbody>\n",
       "    <tr>\n",
       "      <th>0</th>\n",
       "      <td>15624510</td>\n",
       "      <td>Male</td>\n",
       "      <td>19</td>\n",
       "      <td>19000</td>\n",
       "      <td>0</td>\n",
       "    </tr>\n",
       "    <tr>\n",
       "      <th>1</th>\n",
       "      <td>15810944</td>\n",
       "      <td>Male</td>\n",
       "      <td>35</td>\n",
       "      <td>20000</td>\n",
       "      <td>0</td>\n",
       "    </tr>\n",
       "    <tr>\n",
       "      <th>2</th>\n",
       "      <td>15668575</td>\n",
       "      <td>Female</td>\n",
       "      <td>26</td>\n",
       "      <td>43000</td>\n",
       "      <td>0</td>\n",
       "    </tr>\n",
       "    <tr>\n",
       "      <th>3</th>\n",
       "      <td>15603246</td>\n",
       "      <td>Female</td>\n",
       "      <td>27</td>\n",
       "      <td>57000</td>\n",
       "      <td>0</td>\n",
       "    </tr>\n",
       "    <tr>\n",
       "      <th>4</th>\n",
       "      <td>15804002</td>\n",
       "      <td>Male</td>\n",
       "      <td>19</td>\n",
       "      <td>76000</td>\n",
       "      <td>0</td>\n",
       "    </tr>\n",
       "  </tbody>\n",
       "</table>\n",
       "</div>"
      ],
      "text/plain": [
       "    User ID  Gender  Age  EstimatedSalary  Purchased\n",
       "0  15624510    Male   19            19000          0\n",
       "1  15810944    Male   35            20000          0\n",
       "2  15668575  Female   26            43000          0\n",
       "3  15603246  Female   27            57000          0\n",
       "4  15804002    Male   19            76000          0"
      ]
     },
     "execution_count": 41,
     "metadata": {},
     "output_type": "execute_result"
    }
   ],
   "source": [
    "# Display first few rows\n",
    "df.head()"
   ]
  },
  {
   "cell_type": "code",
   "execution_count": 42,
   "id": "2546ccb9",
   "metadata": {},
   "outputs": [
    {
     "data": {
      "text/plain": [
       "Female    204\n",
       "Male      196\n",
       "Name: Gender, dtype: int64"
      ]
     },
     "execution_count": 42,
     "metadata": {},
     "output_type": "execute_result"
    }
   ],
   "source": [
    "df.Gender.value_counts()"
   ]
  },
  {
   "cell_type": "markdown",
   "id": "b99259d6",
   "metadata": {},
   "source": [
    "### Drop unnecessary columns 'User ID' and 'Gender'"
   ]
  },
  {
   "cell_type": "code",
   "execution_count": 43,
   "id": "9d2c8839",
   "metadata": {},
   "outputs": [],
   "source": [
    "df.drop([\"User ID\",\"Gender\"], inplace=True, axis=1)"
   ]
  },
  {
   "cell_type": "markdown",
   "id": "ad02e9c1",
   "metadata": {},
   "source": [
    "### Explore data"
   ]
  },
  {
   "cell_type": "markdown",
   "id": "c6f119fa",
   "metadata": {},
   "source": [
    "#### Display a histogram with bins showing the distribution of the variable: Age"
   ]
  },
  {
   "cell_type": "markdown",
   "id": "fa6054aa",
   "metadata": {},
   "source": [
    "### Apprich 1"
   ]
  },
  {
   "cell_type": "code",
   "execution_count": 44,
   "id": "0f745f90",
   "metadata": {},
   "outputs": [
    {
     "data": {
      "image/png": "[encoded data removed]",
      "text/plain": [
       "<Figure size 640x480 with 1 Axes>"
      ]
     },
     "metadata": {},
     "output_type": "display_data"
    }
   ],
   "source": [
    "ax= sns.histplot(data=df, x=\"Age\", kde=True,color = 'navy',bins = 42)"
   ]
  },
  {
   "cell_type": "markdown",
   "id": "91635b91",
   "metadata": {},
   "source": [
    "### Apprich 2"
   ]
  },
  {
   "cell_type": "code",
   "execution_count": 45,
   "id": "cf1af50a",
   "metadata": {},
   "outputs": [
    {
     "data": {
      "text/plain": [
       "[Text(0, 0, '19'),\n",
       " Text(0, 0, '92'),\n",
       " Text(0, 0, '142'),\n",
       " Text(0, 0, '98'),\n",
       " Text(0, 0, '49')]"
      ]
     },
     "execution_count": 45,
     "metadata": {},
     "output_type": "execute_result"
    },
    {
     "data": {
      "image/png": "[encoded data removed]",
      "text/plain": [
       "<Figure size 640x480 with 1 Axes>"
      ]
     },
     "metadata": {},
     "output_type": "display_data"
    }
   ],
   "source": [
    "#print(df.Age.min(), df.Age.max())\n",
    "df['Age_Bin'] = pd.cut(x=df['Age'], bins=[0, 20, 30, 40, 50, 60])\n",
    "\n",
    "counts = df['Age_Bin'].value_counts().rename_axis('Age range').reset_index(name='count')\n",
    "ax = sns.barplot(x='Age range', y='count', data=counts)\n",
    "ax.bar_label(ax.containers[0])"
   ]
  },
  {
   "cell_type": "markdown",
   "id": "42789960",
   "metadata": {},
   "source": [
    "#### Display a histogram with bins showing the distribution of the variable: EstimatedSalary"
   ]
  },
  {
   "cell_type": "markdown",
   "id": "121e3e4f",
   "metadata": {},
   "source": [
    "#### Apprich 1"
   ]
  },
  {
   "cell_type": "code",
   "execution_count": 46,
   "id": "724a10d6",
   "metadata": {},
   "outputs": [
    {
     "data": {
      "image/png": "[encoded data removed]",
      "text/plain": [
       "<Figure size 640x480 with 1 Axes>"
      ]
     },
     "metadata": {},
     "output_type": "display_data"
    }
   ],
   "source": [
    "ax= sns.histplot(data=df, x=\"EstimatedSalary\", kde=True,color = 'navy',bins = 42)"
   ]
  },
  {
   "cell_type": "markdown",
   "id": "d46e98f8",
   "metadata": {
    "scrolled": false
   },
   "source": [
    "#### Apprich 2"
   ]
  },
  {
   "cell_type": "code",
   "execution_count": 47,
   "id": "cc26cc64",
   "metadata": {},
   "outputs": [
    {
     "data": {
      "text/plain": [
       "[Text(0, 0, '38'),\n",
       " Text(0, 0, '86'),\n",
       " Text(0, 0, '119'),\n",
       " Text(0, 0, '84'),\n",
       " Text(0, 0, '37'),\n",
       " Text(0, 0, '36')]"
      ]
     },
     "execution_count": 47,
     "metadata": {},
     "output_type": "execute_result"
    },
    {
     "data": {
      "image/png": "[encoded data removed]",
      "text/plain": [
       "<Figure size 640x480 with 1 Axes>"
      ]
     },
     "metadata": {},
     "output_type": "display_data"
    }
   ],
   "source": [
    "#print(df.EstimatedSalary.min(), df.EstimatedSalary.max())\n",
    "labels = ['0 -.25','.25 -.50','.50 -.75','.75 -1.00','1.00 - 1.25','1.25 - 1.50']\n",
    "df['ES_Bin'] = pd.cut(x=df['EstimatedSalary'], bins=[0, 25000, 50000, 75000, 100000, 125000, 150000], labels=labels)\n",
    "\n",
    "counts = df['ES_Bin'].value_counts().rename_axis('EstimatedSalary range').reset_index(name='count')\n",
    "ax = sns.barplot(x='EstimatedSalary range', y='count', data=counts)\n",
    "ax.bar_label(ax.containers[0])"
   ]
  },
  {
   "cell_type": "markdown",
   "id": "aaa2de0d",
   "metadata": {},
   "source": [
    "#### Display min and max for variable: Age"
   ]
  },
  {
   "cell_type": "code",
   "execution_count": 48,
   "id": "61aee3dd",
   "metadata": {},
   "outputs": [
    {
     "name": "stdout",
     "output_type": "stream",
     "text": [
      "The Min and Max  of Age are min (18) max (60)\n"
     ]
    }
   ],
   "source": [
    "print(f\"The Min and Max  of Age are min ({df.Age.min()}) max ({df.Age.max()})\")"
   ]
  },
  {
   "cell_type": "markdown",
   "id": "3c961976",
   "metadata": {},
   "source": [
    "#### Display min and max for variable: EstimatedSalary"
   ]
  },
  {
   "cell_type": "code",
   "execution_count": 49,
   "id": "6e7438d2",
   "metadata": {},
   "outputs": [
    {
     "name": "stdout",
     "output_type": "stream",
     "text": [
      "The Min and Max of EstimatedSalary are Min (15000) Max (150000)\n"
     ]
    }
   ],
   "source": [
    "print(f\"The Min and Max of EstimatedSalary are Min ({df.EstimatedSalary.min()}) Max ({df.EstimatedSalary.max()})\")"
   ]
  },
  {
   "cell_type": "markdown",
   "id": "170c5847",
   "metadata": {},
   "source": [
    "#### Note that the scale for variable EstimatedSalary is much higher than for variable Age"
   ]
  },
  {
   "cell_type": "code",
   "execution_count": 50,
   "id": "bff39409",
   "metadata": {},
   "outputs": [],
   "source": [
    "df2= df.iloc[:,:3]"
   ]
  },
  {
   "cell_type": "code",
   "execution_count": 51,
   "id": "b522336f",
   "metadata": {},
   "outputs": [
    {
     "data": {
      "text/plain": [
       "(400, 3)"
      ]
     },
     "execution_count": 51,
     "metadata": {},
     "output_type": "execute_result"
    }
   ],
   "source": [
    "df2.shape"
   ]
  },
  {
   "cell_type": "markdown",
   "id": "4cdea36d",
   "metadata": {},
   "source": [
    "### Separate independent and dependent variables\n",
    "* Independent variables: All except Purchased\n",
    "* Dependent variable: Purchased"
   ]
  },
  {
   "cell_type": "code",
   "execution_count": 52,
   "id": "525ba9df",
   "metadata": {},
   "outputs": [
    {
     "data": {
      "text/html": [
       "<div>\n",
       "<style scoped>\n",
       "    .dataframe tbody tr th:only-of-type {\n",
       "        vertical-align: middle;\n",
       "    }\n",
       "\n",
       "    .dataframe tbody tr th {\n",
       "        vertical-align: top;\n",
       "    }\n",
       "\n",
       "    .dataframe thead th {\n",
       "        text-align: right;\n",
       "    }\n",
       "</style>\n",
       "<table border=\"1\" class=\"dataframe\">\n",
       "  <thead>\n",
       "    <tr style=\"text-align: right;\">\n",
       "      <th></th>\n",
       "      <th>Age</th>\n",
       "      <th>EstimatedSalary</th>\n",
       "      <th>Purchased</th>\n",
       "    </tr>\n",
       "  </thead>\n",
       "  <tbody>\n",
       "    <tr>\n",
       "      <th>0</th>\n",
       "      <td>19</td>\n",
       "      <td>19000</td>\n",
       "      <td>0</td>\n",
       "    </tr>\n",
       "    <tr>\n",
       "      <th>1</th>\n",
       "      <td>35</td>\n",
       "      <td>20000</td>\n",
       "      <td>0</td>\n",
       "    </tr>\n",
       "    <tr>\n",
       "      <th>2</th>\n",
       "      <td>26</td>\n",
       "      <td>43000</td>\n",
       "      <td>0</td>\n",
       "    </tr>\n",
       "  </tbody>\n",
       "</table>\n",
       "</div>"
      ],
      "text/plain": [
       "   Age  EstimatedSalary  Purchased\n",
       "0   19            19000          0\n",
       "1   35            20000          0\n",
       "2   26            43000          0"
      ]
     },
     "execution_count": 52,
     "metadata": {},
     "output_type": "execute_result"
    }
   ],
   "source": [
    "df2.head(3) #400 3"
   ]
  },
  {
   "cell_type": "code",
   "execution_count": 53,
   "id": "9ab8f68c",
   "metadata": {},
   "outputs": [],
   "source": [
    "y= df2.iloc[:,-1:] #400 1 \n",
    "x= df2.iloc[:,:-1] #400 2"
   ]
  },
  {
   "cell_type": "markdown",
   "id": "09db63e5",
   "metadata": {},
   "source": [
    "### Scale (standardize) variables: Age and EstimatedSalary"
   ]
  },
  {
   "cell_type": "code",
   "execution_count": 54,
   "id": "1d15b86f",
   "metadata": {},
   "outputs": [],
   "source": [
    "# Use StandardScaler\n",
    "from sklearn.preprocessing import StandardScaler"
   ]
  },
  {
   "cell_type": "code",
   "execution_count": 55,
   "id": "af28208b",
   "metadata": {},
   "outputs": [
    {
     "data": {
      "text/html": [
       "<div>\n",
       "<style scoped>\n",
       "    .dataframe tbody tr th:only-of-type {\n",
       "        vertical-align: middle;\n",
       "    }\n",
       "\n",
       "    .dataframe tbody tr th {\n",
       "        vertical-align: top;\n",
       "    }\n",
       "\n",
       "    .dataframe thead th {\n",
       "        text-align: right;\n",
       "    }\n",
       "</style>\n",
       "<table border=\"1\" class=\"dataframe\">\n",
       "  <thead>\n",
       "    <tr style=\"text-align: right;\">\n",
       "      <th></th>\n",
       "      <th>Age</th>\n",
       "      <th>EstimatedSalary</th>\n",
       "    </tr>\n",
       "  </thead>\n",
       "  <tbody>\n",
       "    <tr>\n",
       "      <th>0</th>\n",
       "      <td>19</td>\n",
       "      <td>19000</td>\n",
       "    </tr>\n",
       "    <tr>\n",
       "      <th>1</th>\n",
       "      <td>35</td>\n",
       "      <td>20000</td>\n",
       "    </tr>\n",
       "    <tr>\n",
       "      <th>2</th>\n",
       "      <td>26</td>\n",
       "      <td>43000</td>\n",
       "    </tr>\n",
       "    <tr>\n",
       "      <th>3</th>\n",
       "      <td>27</td>\n",
       "      <td>57000</td>\n",
       "    </tr>\n",
       "    <tr>\n",
       "      <th>4</th>\n",
       "      <td>19</td>\n",
       "      <td>76000</td>\n",
       "    </tr>\n",
       "  </tbody>\n",
       "</table>\n",
       "</div>"
      ],
      "text/plain": [
       "   Age  EstimatedSalary\n",
       "0   19            19000\n",
       "1   35            20000\n",
       "2   26            43000\n",
       "3   27            57000\n",
       "4   19            76000"
      ]
     },
     "execution_count": 55,
     "metadata": {},
     "output_type": "execute_result"
    }
   ],
   "source": [
    "x.head()"
   ]
  },
  {
   "cell_type": "code",
   "execution_count": 56,
   "id": "1e0717d1",
   "metadata": {},
   "outputs": [],
   "source": [
    "scaler = StandardScaler()\n",
    "scaler.fit(x)\n",
    "x_scaled = scaler.transform(x)"
   ]
  },
  {
   "cell_type": "code",
   "execution_count": 57,
   "id": "05842118",
   "metadata": {},
   "outputs": [
    {
     "data": {
      "text/plain": [
       "array([-1.78179743, -0.25358736, -1.11320552, -1.01769239, -1.78179743,\n",
       "       -1.01769239, -1.01769239, -0.54012675, -1.20871865, -0.25358736,\n",
       "       -1.11320552, -1.11320552, -1.6862843 , -0.54012675, -1.87731056,\n",
       "       -0.82666613,  0.89257019,  0.70154394,  0.79705706,  0.98808332,\n",
       "        0.70154394,  0.89257019,  0.98808332,  0.70154394,  0.79705706,\n",
       "        0.89257019,  1.08359645,  0.89257019, -0.82666613, -0.63563988,\n",
       "       -0.63563988, -1.01769239, -1.59077117, -0.92217926, -1.01769239,\n",
       "       -0.25358736, -0.44461362, -0.73115301, -1.11320552, -1.01769239,\n",
       "       -1.01769239, -0.44461362, -0.25358736, -0.73115301, -0.92217926,\n",
       "       -1.39974491, -1.20871865, -1.01769239, -0.73115301, -0.63563988,\n",
       "       -1.30423178, -1.87731056, -0.82666613, -0.25358736, -1.01769239,\n",
       "       -1.30423178, -1.39974491, -0.92217926, -1.49525804, -0.54012675,\n",
       "       -1.01769239, -1.20871865, -1.39974491, -0.54012675,  2.03872775,\n",
       "       -1.30423178, -1.30423178, -1.39974491, -1.49525804, -0.63563988,\n",
       "       -1.20871865, -1.30423178, -1.6862843 , -0.44461362, -0.54012675,\n",
       "       -0.34910049, -1.87731056, -1.49525804, -0.92217926, -1.11320552,\n",
       "       -0.73115301,  0.12846516, -1.6862843 , -0.25358736, -0.73115301,\n",
       "       -0.63563988, -1.30423178, -0.92217926, -1.11320552, -0.25358736,\n",
       "       -1.49525804, -0.73115301, -1.11320552, -0.82666613, -0.82666613,\n",
       "       -0.25358736, -0.25358736, -0.92217926, -0.25358736, -0.92217926,\n",
       "       -1.01769239, -0.92217926, -0.54012675, -0.44461362, -1.78179743,\n",
       "       -1.59077117, -1.11320552, -1.01769239, -1.11320552,  0.03295203,\n",
       "        0.12846516, -0.0625611 ,  0.03295203, -0.0625611 ,  0.41500455,\n",
       "        0.22397829, -0.25358736, -0.15807423,  0.22397829,  0.31949142,\n",
       "       -0.15807423, -0.0625611 ,  0.22397829, -0.25358736,  0.31949142,\n",
       "        0.12846516,  0.41500455, -1.11320552, -0.73115301, -1.11320552,\n",
       "       -0.63563988, -0.44461362, -0.73115301, -1.59077117, -0.92217926,\n",
       "       -1.39974491, -1.6862843 , -0.73115301, -0.92217926, -1.78179743,\n",
       "       -1.78179743, -1.87731056, -0.25358736, -0.73115301, -0.34910049,\n",
       "       -1.30423178, -1.01769239,  0.31949142, -0.82666613, -1.6862843 ,\n",
       "       -1.11320552,  0.31949142, -0.63563988, -0.15807423,  0.22397829,\n",
       "       -0.63563988,  0.79705706, -0.82666613, -1.11320552, -0.54012675,\n",
       "       -0.54012675, -1.20871865, -0.0625611 , -0.25358736, -0.44461362,\n",
       "       -1.87731056, -1.49525804, -0.25358736, -0.82666613, -0.82666613,\n",
       "       -1.59077117, -0.34910049, -1.11320552, -0.34910049, -0.34910049,\n",
       "       -1.39974491, -0.25358736, -1.20871865, -1.30423178, -0.63563988,\n",
       "       -1.11320552, -0.63563988, -0.54012675, -0.44461362, -0.44461362,\n",
       "       -0.63563988, -1.6862843 , -0.44461362, -0.25358736, -0.92217926,\n",
       "       -1.30423178, -1.78179743, -0.82666613, -1.78179743, -0.92217926,\n",
       "       -0.34910049, -0.73115301, -1.6862843 , -1.11320552, -0.25358736,\n",
       "       -0.25358736,  1.08359645,  0.12846516,  0.31949142,  1.94321462,\n",
       "        0.89257019,  1.65667523,  1.37013584,  0.22397829,  0.79705706,\n",
       "        0.98808332,  1.37013584,  2.03872775, -0.25358736,  0.89257019,\n",
       "        2.13424088,  1.08359645,  0.22397829,  0.79705706,  2.03872775,\n",
       "        0.31949142, -0.25358736, -0.0625611 ,  2.13424088, -0.25358736,\n",
       "       -0.0625611 , -0.15807423,  1.75218836,  0.22397829,  0.41500455,\n",
       "       -0.25358736,  0.12846516,  0.22397829,  1.08359645,  0.03295203,\n",
       "        0.79705706,  0.22397829, -0.0625611 ,  0.79705706,  1.46564897,\n",
       "        0.41500455,  0.03295203,  1.17910958,  1.75218836,  0.31949142,\n",
       "        1.27462271, -0.25358736,  1.84770149,  0.31949142, -0.25358736,\n",
       "        0.60603081, -0.0625611 ,  0.98808332, -0.0625611 ,  1.17910958,\n",
       "        1.37013584,  0.31949142,  0.22397829,  1.94321462,  0.70154394,\n",
       "       -0.25358736, -0.15807423,  1.65667523, -0.25358736,  0.98808332,\n",
       "        0.41500455,  0.22397829, -0.0625611 ,  0.89257019,  0.22397829,\n",
       "        0.51051768,  2.03872775,  2.13424088,  0.12846516,  1.84770149,\n",
       "        1.84770149,  0.03295203,  1.08359645,  1.37013584,  1.17910958,\n",
       "        2.03872775, -0.25358736, -0.0625611 ,  1.37013584,  0.98808332,\n",
       "       -0.0625611 , -0.0625611 ,  0.98808332,  0.31949142, -0.0625611 ,\n",
       "        0.12846516,  1.08359645,  1.65667523, -0.0625611 , -0.25358736,\n",
       "       -0.15807423,  0.41500455,  0.51051768,  0.70154394,  0.79705706,\n",
       "        1.94321462,  0.98808332, -0.0625611 , -0.0625611 ,  0.22397829,\n",
       "        0.41500455,  1.27462271,  0.89257019, -0.15807423,  0.03295203,\n",
       "        0.41500455,  0.12846516,  0.03295203,  1.08359645,  0.12846516,\n",
       "        0.12846516,  1.5611621 , -0.25358736,  0.70154394, -0.15807423,\n",
       "        1.37013584,  1.46564897,  0.31949142,  0.98808332,  0.98808332,\n",
       "        0.31949142,  0.31949142,  0.41500455, -0.15807423,  0.89257019,\n",
       "        0.03295203,  0.98808332,  0.41500455,  0.22397829,  1.84770149,\n",
       "       -0.15807423,  1.94321462, -0.25358736,  0.03295203,  0.12846516,\n",
       "        1.46564897, -0.25358736,  0.03295203,  0.89257019,  0.89257019,\n",
       "        0.31949142,  1.46564897,  1.5611621 ,  0.12846516,  0.03295203,\n",
       "        0.03295203, -0.0625611 ,  0.41500455, -0.0625611 , -0.15807423,\n",
       "        2.13424088,  1.5611621 ,  0.31949142,  0.22397829,  0.41500455,\n",
       "        0.51051768,  1.46564897,  0.89257019,  0.41500455,  0.41500455,\n",
       "        2.03872775,  1.94321462,  0.79705706,  0.03295203,  1.5611621 ,\n",
       "        2.13424088,  2.13424088,  0.12846516,  2.03872775, -0.0625611 ,\n",
       "        0.79705706,  0.79705706,  0.41500455,  0.31949142,  1.94321462,\n",
       "        0.41500455,  0.98808332,  0.60603081,  1.08359645,  1.84770149,\n",
       "        1.75218836,  1.08359645,  0.12846516,  0.89257019,  0.98808332,\n",
       "        0.98808332,  0.89257019,  0.70154394,  2.13424088,  0.12846516,\n",
       "        0.79705706,  1.27462271,  1.17910958, -0.15807423,  1.08359645])"
      ]
     },
     "execution_count": 57,
     "metadata": {},
     "output_type": "execute_result"
    }
   ],
   "source": [
    "x_scaled[:,0] # Array"
   ]
  },
  {
   "cell_type": "code",
   "execution_count": 58,
   "id": "99c22204",
   "metadata": {},
   "outputs": [],
   "source": [
    "x[\"Age\"]=pd.Series(x_scaled[:,0])\n",
    "x[\"EstimatedSalary\"]=pd.DataFrame(x_scaled[:,1])"
   ]
  },
  {
   "cell_type": "code",
   "execution_count": 59,
   "id": "041a3461",
   "metadata": {},
   "outputs": [
    {
     "data": {
      "text/html": [
       "<div>\n",
       "<style scoped>\n",
       "    .dataframe tbody tr th:only-of-type {\n",
       "        vertical-align: middle;\n",
       "    }\n",
       "\n",
       "    .dataframe tbody tr th {\n",
       "        vertical-align: top;\n",
       "    }\n",
       "\n",
       "    .dataframe thead th {\n",
       "        text-align: right;\n",
       "    }\n",
       "</style>\n",
       "<table border=\"1\" class=\"dataframe\">\n",
       "  <thead>\n",
       "    <tr style=\"text-align: right;\">\n",
       "      <th></th>\n",
       "      <th>Age</th>\n",
       "      <th>EstimatedSalary</th>\n",
       "    </tr>\n",
       "  </thead>\n",
       "  <tbody>\n",
       "    <tr>\n",
       "      <th>0</th>\n",
       "      <td>-1.781797</td>\n",
       "      <td>-1.490046</td>\n",
       "    </tr>\n",
       "    <tr>\n",
       "      <th>1</th>\n",
       "      <td>-0.253587</td>\n",
       "      <td>-1.460681</td>\n",
       "    </tr>\n",
       "    <tr>\n",
       "      <th>2</th>\n",
       "      <td>-1.113206</td>\n",
       "      <td>-0.785290</td>\n",
       "    </tr>\n",
       "    <tr>\n",
       "      <th>3</th>\n",
       "      <td>-1.017692</td>\n",
       "      <td>-0.374182</td>\n",
       "    </tr>\n",
       "    <tr>\n",
       "      <th>4</th>\n",
       "      <td>-1.781797</td>\n",
       "      <td>0.183751</td>\n",
       "    </tr>\n",
       "    <tr>\n",
       "      <th>...</th>\n",
       "      <td>...</td>\n",
       "      <td>...</td>\n",
       "    </tr>\n",
       "    <tr>\n",
       "      <th>395</th>\n",
       "      <td>0.797057</td>\n",
       "      <td>-0.844019</td>\n",
       "    </tr>\n",
       "    <tr>\n",
       "      <th>396</th>\n",
       "      <td>1.274623</td>\n",
       "      <td>-1.372587</td>\n",
       "    </tr>\n",
       "    <tr>\n",
       "      <th>397</th>\n",
       "      <td>1.179110</td>\n",
       "      <td>-1.460681</td>\n",
       "    </tr>\n",
       "    <tr>\n",
       "      <th>398</th>\n",
       "      <td>-0.158074</td>\n",
       "      <td>-1.078938</td>\n",
       "    </tr>\n",
       "    <tr>\n",
       "      <th>399</th>\n",
       "      <td>1.083596</td>\n",
       "      <td>-0.990844</td>\n",
       "    </tr>\n",
       "  </tbody>\n",
       "</table>\n",
       "<p>400 rows × 2 columns</p>\n",
       "</div>"
      ],
      "text/plain": [
       "          Age  EstimatedSalary\n",
       "0   -1.781797        -1.490046\n",
       "1   -0.253587        -1.460681\n",
       "2   -1.113206        -0.785290\n",
       "3   -1.017692        -0.374182\n",
       "4   -1.781797         0.183751\n",
       "..        ...              ...\n",
       "395  0.797057        -0.844019\n",
       "396  1.274623        -1.372587\n",
       "397  1.179110        -1.460681\n",
       "398 -0.158074        -1.078938\n",
       "399  1.083596        -0.990844\n",
       "\n",
       "[400 rows x 2 columns]"
      ]
     },
     "execution_count": 59,
     "metadata": {},
     "output_type": "execute_result"
    }
   ],
   "source": [
    "x"
   ]
  },
  {
   "cell_type": "markdown",
   "id": "f801d392",
   "metadata": {},
   "source": [
    "#### Display min and max for scaled variable: Age"
   ]
  },
  {
   "cell_type": "code",
   "execution_count": 60,
   "id": "60e01926",
   "metadata": {},
   "outputs": [
    {
     "name": "stdout",
     "output_type": "stream",
     "text": [
      "The Min nad Max of Scaled Age are:- ( -1.8773105578331641 and 2.134240875847471 ) \n"
     ]
    }
   ],
   "source": [
    "print(f\"The Min nad Max of Scaled Age are:- ( {x.Age.min()} and {x.Age.max()} ) \")"
   ]
  },
  {
   "cell_type": "markdown",
   "id": "4d10bd6f",
   "metadata": {},
   "source": [
    "#### Display min and max for scaled variable: EstimatedSalary"
   ]
  },
  {
   "cell_type": "code",
   "execution_count": 61,
   "id": "74d34493",
   "metadata": {},
   "outputs": [
    {
     "name": "stdout",
     "output_type": "stream",
     "text": [
      "The Min nad Max of Scaled EstimatedSalary are:- ( -1.6075056615492507 and 2.3567499772898386 ) \n"
     ]
    }
   ],
   "source": [
    "print(f\"The Min nad Max of Scaled EstimatedSalary are:- ( {x.EstimatedSalary.min()} and {x.EstimatedSalary.max()} ) \")"
   ]
  },
  {
   "cell_type": "markdown",
   "id": "8f080f68",
   "metadata": {},
   "source": [
    "### Split data into training and test sets"
   ]
  },
  {
   "cell_type": "code",
   "execution_count": 62,
   "id": "91a7e3c3",
   "metadata": {},
   "outputs": [],
   "source": [
    "X_train, X_test, y_train, y_test = train_test_split(x, y, test_size = 0.3, random_state = 42)"
   ]
  },
  {
   "cell_type": "markdown",
   "id": "c493a82a",
   "metadata": {},
   "source": [
    "### Train KNeighborsClassifier (with default hyperparameters)"
   ]
  },
  {
   "cell_type": "code",
   "execution_count": 63,
   "id": "8dc7f744",
   "metadata": {},
   "outputs": [
    {
     "data": {
      "text/html": [
       "<style>#sk-container-id-3 {color: black;background-color: white;}#sk-container-id-3 pre{padding: 0;}#sk-container-id-3 div.sk-toggleable {background-color: white;}#sk-container-id-3 label.sk-toggleable__label {cursor: pointer;display: block;width: 100%;margin-bottom: 0;padding: 0.3em;box-sizing: border-box;text-align: center;}#sk-container-id-3 label.sk-toggleable__label-arrow:before {content: \"▸\";float: left;margin-right: 0.25em;color: #696969;}#sk-container-id-3 label.sk-toggleable__label-arrow:hover:before {color: black;}#sk-container-id-3 div.sk-estimator:hover label.sk-toggleable__label-arrow:before {color: black;}#sk-container-id-3 div.sk-toggleable__content {max-height: 0;max-width: 0;overflow: hidden;text-align: left;background-color: #f0f8ff;}#sk-container-id-3 div.sk-toggleable__content pre {margin: 0.2em;color: black;border-radius: 0.25em;background-color: #f0f8ff;}#sk-container-id-3 input.sk-toggleable__control:checked~div.sk-toggleable__content {max-height: 200px;max-width: 100%;overflow: auto;}#sk-container-id-3 input.sk-toggleable__control:checked~label.sk-toggleable__label-arrow:before {content: \"▾\";}#sk-container-id-3 div.sk-estimator input.sk-toggleable__control:checked~label.sk-toggleable__label {background-color: #d4ebff;}#sk-container-id-3 div.sk-label input.sk-toggleable__control:checked~label.sk-toggleable__label {background-color: #d4ebff;}#sk-container-id-3 input.sk-hidden--visually {border: 0;clip: rect(1px 1px 1px 1px);clip: rect(1px, 1px, 1px, 1px);height: 1px;margin: -1px;overflow: hidden;padding: 0;position: absolute;width: 1px;}#sk-container-id-3 div.sk-estimator {font-family: monospace;background-color: #f0f8ff;border: 1px dotted black;border-radius: 0.25em;box-sizing: border-box;margin-bottom: 0.5em;}#sk-container-id-3 div.sk-estimator:hover {background-color: #d4ebff;}#sk-container-id-3 div.sk-parallel-item::after {content: \"\";width: 100%;border-bottom: 1px solid gray;flex-grow: 1;}#sk-container-id-3 div.sk-label:hover label.sk-toggleable__label {background-color: #d4ebff;}#sk-container-id-3 div.sk-serial::before {content: \"\";position: absolute;border-left: 1px solid gray;box-sizing: border-box;top: 0;bottom: 0;left: 50%;z-index: 0;}#sk-container-id-3 div.sk-serial {display: flex;flex-direction: column;align-items: center;background-color: white;padding-right: 0.2em;padding-left: 0.2em;position: relative;}#sk-container-id-3 div.sk-item {position: relative;z-index: 1;}#sk-container-id-3 div.sk-parallel {display: flex;align-items: stretch;justify-content: center;background-color: white;position: relative;}#sk-container-id-3 div.sk-item::before, #sk-container-id-3 div.sk-parallel-item::before {content: \"\";position: absolute;border-left: 1px solid gray;box-sizing: border-box;top: 0;bottom: 0;left: 50%;z-index: -1;}#sk-container-id-3 div.sk-parallel-item {display: flex;flex-direction: column;z-index: 1;position: relative;background-color: white;}#sk-container-id-3 div.sk-parallel-item:first-child::after {align-self: flex-end;width: 50%;}#sk-container-id-3 div.sk-parallel-item:last-child::after {align-self: flex-start;width: 50%;}#sk-container-id-3 div.sk-parallel-item:only-child::after {width: 0;}#sk-container-id-3 div.sk-dashed-wrapped {border: 1px dashed gray;margin: 0 0.4em 0.5em 0.4em;box-sizing: border-box;padding-bottom: 0.4em;background-color: white;}#sk-container-id-3 div.sk-label label {font-family: monospace;font-weight: bold;display: inline-block;line-height: 1.2em;}#sk-container-id-3 div.sk-label-container {text-align: center;}#sk-container-id-3 div.sk-container {/* jupyter's `normalize.less` sets `[hidden] { display: none; }` but bootstrap.min.css set `[hidden] { display: none !important; }` so we also need the `!important` here to be able to override the default hidden behavior on the sphinx rendered scikit-learn.org. See: https://github.com/scikit-learn/scikit-learn/issues/21755 */display: inline-block !important;position: relative;}#sk-container-id-3 div.sk-text-repr-fallback {display: none;}</style><div id=\"sk-container-id-3\" class=\"sk-top-container\"><div class=\"sk-text-repr-fallback\"><pre>KNeighborsClassifier()</pre><b>In a Jupyter environment, please rerun this cell to show the HTML representation or trust the notebook. <br />On GitHub, the HTML representation is unable to render, please try loading this page with nbviewer.org.</b></div><div class=\"sk-container\" hidden><div class=\"sk-item\"><div class=\"sk-estimator sk-toggleable\"><input class=\"sk-toggleable__control sk-hidden--visually\" id=\"sk-estimator-id-3\" type=\"checkbox\" checked><label for=\"sk-estimator-id-3\" class=\"sk-toggleable__label sk-toggleable__label-arrow\">KNeighborsClassifier</label><div class=\"sk-toggleable__content\"><pre>KNeighborsClassifier()</pre></div></div></div></div></div>"
      ],
      "text/plain": [
       "KNeighborsClassifier()"
      ]
     },
     "execution_count": 63,
     "metadata": {},
     "output_type": "execute_result"
    }
   ],
   "source": [
    "knn = KNeighborsClassifier()\n",
    "knn.fit(X_train, y_train)"
   ]
  },
  {
   "cell_type": "markdown",
   "id": "a8b14a0f",
   "metadata": {},
   "source": [
    "### Evaluate model performance"
   ]
  },
  {
   "cell_type": "code",
   "execution_count": 64,
   "id": "b8096f38",
   "metadata": {},
   "outputs": [],
   "source": [
    "# Predict using the test set\n",
    "y_pred=knn.predict(X_test)"
   ]
  },
  {
   "cell_type": "code",
   "execution_count": 65,
   "id": "2a2f12db",
   "metadata": {},
   "outputs": [
    {
     "name": "stdout",
     "output_type": "stream",
     "text": [
      "Accuracy = 93.33%\n"
     ]
    }
   ],
   "source": [
    "# Print model accuracy score on test set\n",
    "from sklearn.metrics import accuracy_score\n",
    "print(f\"Accuracy = {round((accuracy_score(y_test, y_pred) * 100), 2)}%\")"
   ]
  },
  {
   "cell_type": "code",
   "execution_count": 66,
   "id": "236ec787",
   "metadata": {},
   "outputs": [
    {
     "name": "stdout",
     "output_type": "stream",
     "text": [
      "              precision    recall  f1-score   support\n",
      "\n",
      "           0       0.95      0.95      0.95        73\n",
      "           1       0.91      0.91      0.91        47\n",
      "\n",
      "    accuracy                           0.93       120\n",
      "   macro avg       0.93      0.93      0.93       120\n",
      "weighted avg       0.93      0.93      0.93       120\n",
      "\n"
     ]
    }
   ],
   "source": [
    "# Generate classification report to evaluate the model\n",
    "from sklearn.metrics import classification_report\n",
    "print(classification_report(y_test, y_pred))"
   ]
  },
  {
   "cell_type": "code",
   "execution_count": 67,
   "id": "bf1558d4",
   "metadata": {},
   "outputs": [],
   "source": [
    "possible_k = [3,5,7,9,11,13,15,17,19,21,23,25,27,29,31]"
   ]
  },
  {
   "cell_type": "code",
   "execution_count": 68,
   "id": "e7531495",
   "metadata": {},
   "outputs": [
    {
     "name": "stdout",
     "output_type": "stream",
     "text": [
      "Accuracy Scores : [0.825, 0.825, 0.825, 0.825, 0.8333333333333334, 0.8333333333333334, 0.8333333333333334, 0.8333333333333334, 0.8333333333333334, 0.8333333333333334, 0.8333333333333334, 0.8333333333333334, 0.8333333333333334, 0.8333333333333334, 0.8333333333333334]\n"
     ]
    }
   ],
   "source": [
    "# Calculate accuracy for each k value\n",
    "ac_scores=[]\n",
    "for k in possible_k:\n",
    "    knn=KNeighborsClassifier(n_neighbors=k, weights='distance', metric='cosine')\n",
    "    knn.fit(X_train, y_train)\n",
    "    y_pred=knn.predict(X_test)\n",
    "    scores=accuracy_score(y_test, y_pred)\n",
    "    ac_scores.append(scores)\n",
    "print (\"Accuracy Scores :\", ac_scores)"
   ]
  },
  {
   "cell_type": "code",
   "execution_count": 69,
   "id": "f074d06c",
   "metadata": {},
   "outputs": [
    {
     "name": "stdout",
     "output_type": "stream",
     "text": [
      "Error : [0.17500000000000004, 0.17500000000000004, 0.17500000000000004, 0.17500000000000004, 0.16666666666666663, 0.16666666666666663, 0.16666666666666663, 0.16666666666666663, 0.16666666666666663, 0.16666666666666663, 0.16666666666666663, 0.16666666666666663, 0.16666666666666663, 0.16666666666666663, 0.16666666666666663]\n"
     ]
    }
   ],
   "source": [
    "# Calculate the error\n",
    "error = [1-x for x in ac_scores]\n",
    "print (\"Error :\", error)"
   ]
  },
  {
   "cell_type": "code",
   "execution_count": 70,
   "id": "6966855e",
   "metadata": {},
   "outputs": [
    {
     "name": "stdout",
     "output_type": "stream",
     "text": [
      "Best value of k is 11\n"
     ]
    }
   ],
   "source": [
    "i = error.index(min(error))\n",
    "best_k = possible_k[i]\n",
    "print (\"Best value of k is\", best_k)"
   ]
  },
  {
   "cell_type": "code",
   "execution_count": 71,
   "id": "12c5e75d",
   "metadata": {},
   "outputs": [
    {
     "data": {
      "image/png": "[encoded data removed]",
      "text/plain": [
       "<Figure size 640x480 with 1 Axes>"
      ]
     },
     "metadata": {},
     "output_type": "display_data"
    }
   ],
   "source": [
    "plt.plot(possible_k, error)\n",
    "plt.xlabel(\"Number of Neighbors (k)\")\n",
    "plt.ylabel(\"error\")\n",
    "plt.show()"
   ]
  },
  {
   "cell_type": "markdown",
   "id": "e9e735f4",
   "metadata": {},
   "source": [
    "### Train KNeighborsClassifier (change n_neighbors hyperparameter and at least one other hyperparameter)"
   ]
  },
  {
   "cell_type": "code",
   "execution_count": 72,
   "id": "efadbe02",
   "metadata": {},
   "outputs": [
    {
     "data": {
      "text/html": [
       "<style>#sk-container-id-4 {color: black;background-color: white;}#sk-container-id-4 pre{padding: 0;}#sk-container-id-4 div.sk-toggleable {background-color: white;}#sk-container-id-4 label.sk-toggleable__label {cursor: pointer;display: block;width: 100%;margin-bottom: 0;padding: 0.3em;box-sizing: border-box;text-align: center;}#sk-container-id-4 label.sk-toggleable__label-arrow:before {content: \"▸\";float: left;margin-right: 0.25em;color: #696969;}#sk-container-id-4 label.sk-toggleable__label-arrow:hover:before {color: black;}#sk-container-id-4 div.sk-estimator:hover label.sk-toggleable__label-arrow:before {color: black;}#sk-container-id-4 div.sk-toggleable__content {max-height: 0;max-width: 0;overflow: hidden;text-align: left;background-color: #f0f8ff;}#sk-container-id-4 div.sk-toggleable__content pre {margin: 0.2em;color: black;border-radius: 0.25em;background-color: #f0f8ff;}#sk-container-id-4 input.sk-toggleable__control:checked~div.sk-toggleable__content {max-height: 200px;max-width: 100%;overflow: auto;}#sk-container-id-4 input.sk-toggleable__control:checked~label.sk-toggleable__label-arrow:before {content: \"▾\";}#sk-container-id-4 div.sk-estimator input.sk-toggleable__control:checked~label.sk-toggleable__label {background-color: #d4ebff;}#sk-container-id-4 div.sk-label input.sk-toggleable__control:checked~label.sk-toggleable__label {background-color: #d4ebff;}#sk-container-id-4 input.sk-hidden--visually {border: 0;clip: rect(1px 1px 1px 1px);clip: rect(1px, 1px, 1px, 1px);height: 1px;margin: -1px;overflow: hidden;padding: 0;position: absolute;width: 1px;}#sk-container-id-4 div.sk-estimator {font-family: monospace;background-color: #f0f8ff;border: 1px dotted black;border-radius: 0.25em;box-sizing: border-box;margin-bottom: 0.5em;}#sk-container-id-4 div.sk-estimator:hover {background-color: #d4ebff;}#sk-container-id-4 div.sk-parallel-item::after {content: \"\";width: 100%;border-bottom: 1px solid gray;flex-grow: 1;}#sk-container-id-4 div.sk-label:hover label.sk-toggleable__label {background-color: #d4ebff;}#sk-container-id-4 div.sk-serial::before {content: \"\";position: absolute;border-left: 1px solid gray;box-sizing: border-box;top: 0;bottom: 0;left: 50%;z-index: 0;}#sk-container-id-4 div.sk-serial {display: flex;flex-direction: column;align-items: center;background-color: white;padding-right: 0.2em;padding-left: 0.2em;position: relative;}#sk-container-id-4 div.sk-item {position: relative;z-index: 1;}#sk-container-id-4 div.sk-parallel {display: flex;align-items: stretch;justify-content: center;background-color: white;position: relative;}#sk-container-id-4 div.sk-item::before, #sk-container-id-4 div.sk-parallel-item::before {content: \"\";position: absolute;border-left: 1px solid gray;box-sizing: border-box;top: 0;bottom: 0;left: 50%;z-index: -1;}#sk-container-id-4 div.sk-parallel-item {display: flex;flex-direction: column;z-index: 1;position: relative;background-color: white;}#sk-container-id-4 div.sk-parallel-item:first-child::after {align-self: flex-end;width: 50%;}#sk-container-id-4 div.sk-parallel-item:last-child::after {align-self: flex-start;width: 50%;}#sk-container-id-4 div.sk-parallel-item:only-child::after {width: 0;}#sk-container-id-4 div.sk-dashed-wrapped {border: 1px dashed gray;margin: 0 0.4em 0.5em 0.4em;box-sizing: border-box;padding-bottom: 0.4em;background-color: white;}#sk-container-id-4 div.sk-label label {font-family: monospace;font-weight: bold;display: inline-block;line-height: 1.2em;}#sk-container-id-4 div.sk-label-container {text-align: center;}#sk-container-id-4 div.sk-container {/* jupyter's `normalize.less` sets `[hidden] { display: none; }` but bootstrap.min.css set `[hidden] { display: none !important; }` so we also need the `!important` here to be able to override the default hidden behavior on the sphinx rendered scikit-learn.org. See: https://github.com/scikit-learn/scikit-learn/issues/21755 */display: inline-block !important;position: relative;}#sk-container-id-4 div.sk-text-repr-fallback {display: none;}</style><div id=\"sk-container-id-4\" class=\"sk-top-container\"><div class=\"sk-text-repr-fallback\"><pre>KNeighborsClassifier(metric=&#x27;cosine&#x27;, n_neighbors=13, weights=&#x27;distance&#x27;)</pre><b>In a Jupyter environment, please rerun this cell to show the HTML representation or trust the notebook. <br />On GitHub, the HTML representation is unable to render, please try loading this page with nbviewer.org.</b></div><div class=\"sk-container\" hidden><div class=\"sk-item\"><div class=\"sk-estimator sk-toggleable\"><input class=\"sk-toggleable__control sk-hidden--visually\" id=\"sk-estimator-id-4\" type=\"checkbox\" checked><label for=\"sk-estimator-id-4\" class=\"sk-toggleable__label sk-toggleable__label-arrow\">KNeighborsClassifier</label><div class=\"sk-toggleable__content\"><pre>KNeighborsClassifier(metric=&#x27;cosine&#x27;, n_neighbors=13, weights=&#x27;distance&#x27;)</pre></div></div></div></div></div>"
      ],
      "text/plain": [
       "KNeighborsClassifier(metric='cosine', n_neighbors=13, weights='distance')"
      ]
     },
     "execution_count": 72,
     "metadata": {},
     "output_type": "execute_result"
    }
   ],
   "source": [
    "# ( metric='euclidean' ), ( metric='manhattan' ), ( metric='chebyshev' ), \n",
    "# (metric='minkowski', p=3), ( metric='hamming' )\n",
    "\n",
    "\n",
    "knn=KNeighborsClassifier(n_neighbors=13, weights='distance', metric='cosine')\n",
    "knn.fit(X_train, y_train)"
   ]
  },
  {
   "cell_type": "markdown",
   "id": "ab3525b0",
   "metadata": {},
   "source": [
    "### Evaluate model performance"
   ]
  },
  {
   "cell_type": "code",
   "execution_count": 73,
   "id": "c6ec4dd4",
   "metadata": {},
   "outputs": [],
   "source": [
    "# Predict using the test set\n",
    "y_pred=knn.predict(X_test)"
   ]
  },
  {
   "cell_type": "code",
   "execution_count": 74,
   "id": "f3a6a1b2",
   "metadata": {},
   "outputs": [
    {
     "name": "stdout",
     "output_type": "stream",
     "text": [
      "Accuracy = 83.33%\n"
     ]
    }
   ],
   "source": [
    "# Print model accuracy score on test set\n",
    "print(f\"Accuracy = {round((accuracy_score(y_test, y_pred) * 100), 2)}%\")"
   ]
  },
  {
   "cell_type": "code",
   "execution_count": 75,
   "id": "ac9a62fa",
   "metadata": {},
   "outputs": [
    {
     "name": "stdout",
     "output_type": "stream",
     "text": [
      "              precision    recall  f1-score   support\n",
      "\n",
      "           0       0.84      0.89      0.87        73\n",
      "           1       0.81      0.74      0.78        47\n",
      "\n",
      "    accuracy                           0.83       120\n",
      "   macro avg       0.83      0.82      0.82       120\n",
      "weighted avg       0.83      0.83      0.83       120\n",
      "\n"
     ]
    }
   ],
   "source": [
    "# Generate classification report to evaluate the model\n",
    "print(classification_report(y_test, y_pred))"
   ]
  }
 ],
 "metadata": {
  "kernelspec": {
   "display_name": "Python 3 (ipykernel)",
   "language": "python",
   "name": "python3"
  },
  "language_info": {
   "codemirror_mode": {
    "name": "ipython",
    "version": 3
   },
   "file_extension": ".py",
   "mimetype": "text/x-python",
   "name": "python",
   "nbconvert_exporter": "python",
   "pygments_lexer": "ipython3",
   "version": "3.9.13"
  }
 },
 "nbformat": 4,
 "nbformat_minor": 5
}
